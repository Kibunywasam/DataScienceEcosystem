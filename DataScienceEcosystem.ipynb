{
 "cells": [
  {
   "cell_type": "markdown",
   "id": "074b8632",
   "metadata": {},
   "source": [
    "# Data Science Tools and Ecosystem\n",
    "In this notebook, Data Science Tools and Ecosystem are summarized.\n",
    "**Objectives**\n",
    "    > List popular languages for Data Science.\n",
    "    > List commonly used libraries for data science.\n",
    "    > Create tables in jupyter notebook\n",
    "    > Evaluate arithmetic expressions\n",
    "Some of the popular languages that Data Scientists use are:\n",
    "    1) python\n",
    "    2) Sql\n",
    "    3) R\n",
    "Some of the commonly used libraries used by Data Scientists include:\n",
    "    1) Pandas\n",
    "    2) Numphy\n",
    "    3) Matplotlib\n",
    "    \n",
    "Data Science Tools | Jupyter | RStudio | Spyder\n",
    "-----------------------------------------------------------------------\n",
    "\n",
    "Below are a few examples of evaluating arithmetic expressions in Python.\n"
   ]
  },
  {
   "cell_type": "code",
   "execution_count": 2,
   "id": "97445787",
   "metadata": {},
   "outputs": [
    {
     "data": {
      "text/plain": [
       "17"
      ]
     },
     "execution_count": 2,
     "metadata": {},
     "output_type": "execute_result"
    }
   ],
   "source": [
    "(3*4)+5"
   ]
  },
  {
   "cell_type": "code",
   "execution_count": 7,
   "id": "12b1e992",
   "metadata": {},
   "outputs": [
    {
     "name": "stdout",
     "output_type": "stream",
     "text": [
      "3.3333333333333335\n"
     ]
    }
   ],
   "source": [
    "Hours= 200/60\n",
    "print(Hours)\n",
    "#This will convert 200 minutes to hours by diving by 60"
   ]
  },
  {
   "cell_type": "markdown",
   "id": "cda0d56b",
   "metadata": {},
   "source": [
    "## Author\n",
    "Samuel Kibunywa"
   ]
  }
 ],
 "metadata": {
  "kernelspec": {
   "display_name": "Python 3 (ipykernel)",
   "language": "python",
   "name": "python3"
  },
  "language_info": {
   "codemirror_mode": {
    "name": "ipython",
    "version": 3
   },
   "file_extension": ".py",
   "mimetype": "text/x-python",
   "name": "python",
   "nbconvert_exporter": "python",
   "pygments_lexer": "ipython3",
   "version": "3.10.10"
  }
 },
 "nbformat": 4,
 "nbformat_minor": 5
}
